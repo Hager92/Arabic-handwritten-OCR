{
  "cells": [
    {
      "cell_type": "code",
      "source": [
        "!pip install python-Levenshtein"
      ],
      "metadata": {
        "colab": {
          "base_uri": "https://localhost:8080/"
        },
        "id": "ARBRcmaZrDqd",
        "outputId": "e233fddf-4fae-48bb-afbb-88fbbc99bf77"
      },
      "execution_count": null,
      "outputs": [
        {
          "output_type": "stream",
          "name": "stdout",
          "text": [
            "Collecting python-Levenshtein\n",
            "  Downloading python_levenshtein-0.27.1-py3-none-any.whl.metadata (3.7 kB)\n",
            "Collecting Levenshtein==0.27.1 (from python-Levenshtein)\n",
            "  Downloading levenshtein-0.27.1-cp311-cp311-manylinux_2_17_x86_64.manylinux2014_x86_64.whl.metadata (3.6 kB)\n",
            "Collecting rapidfuzz<4.0.0,>=3.9.0 (from Levenshtein==0.27.1->python-Levenshtein)\n",
            "  Downloading rapidfuzz-3.13.0-cp311-cp311-manylinux_2_17_x86_64.manylinux2014_x86_64.whl.metadata (12 kB)\n",
            "Downloading python_levenshtein-0.27.1-py3-none-any.whl (9.4 kB)\n",
            "Downloading levenshtein-0.27.1-cp311-cp311-manylinux_2_17_x86_64.manylinux2014_x86_64.whl (161 kB)\n",
            "\u001b[2K   \u001b[90m━━━━━━━━━━━━━━━━━━━━━━━━━━━━━━━━━━━━━━━━\u001b[0m \u001b[32m161.7/161.7 kB\u001b[0m \u001b[31m10.1 MB/s\u001b[0m eta \u001b[36m0:00:00\u001b[0m\n",
            "\u001b[?25hDownloading rapidfuzz-3.13.0-cp311-cp311-manylinux_2_17_x86_64.manylinux2014_x86_64.whl (3.1 MB)\n",
            "\u001b[2K   \u001b[90m━━━━━━━━━━━━━━━━━━━━━━━━━━━━━━━━━━━━━━━━\u001b[0m \u001b[32m3.1/3.1 MB\u001b[0m \u001b[31m72.4 MB/s\u001b[0m eta \u001b[36m0:00:00\u001b[0m\n",
            "\u001b[?25hInstalling collected packages: rapidfuzz, Levenshtein, python-Levenshtein\n",
            "Successfully installed Levenshtein-0.27.1 python-Levenshtein-0.27.1 rapidfuzz-3.13.0\n"
          ]
        }
      ]
    },
    {
      "cell_type": "code",
      "execution_count": null,
      "metadata": {
        "id": "blodNrVJqDCe"
      },
      "outputs": [],
      "source": [
        "import os\n",
        "import cv2\n",
        "import matplotlib.pyplot as plt\n",
        "import numpy as np\n",
        "import tensorflow as tf\n",
        "import Levenshtein\n",
        "import gc\n",
        "from numba import njit\n",
        "from sklearn.model_selection import train_test_split\n",
        "# In newer TensorFlow versions, StringLookup is directly under keras.layers\n",
        "from tensorflow.keras.layers import StringLookup # Changed import line\n",
        "import datetime\n",
        "from PIL import Image\n",
        "# import cProfile"
      ]
    },
    {
      "cell_type": "code",
      "source": [
        "from google.colab import drive\n",
        "drive.mount('/content/drive')"
      ],
      "metadata": {
        "colab": {
          "base_uri": "https://localhost:8080/"
        },
        "id": "eGpBUHR5sx1Y",
        "outputId": "dc3508bc-9301-468f-e8b6-8addc22e6077"
      },
      "execution_count": null,
      "outputs": [
        {
          "output_type": "stream",
          "name": "stdout",
          "text": [
            "Mounted at /content/drive\n"
          ]
        }
      ]
    },
    {
      "cell_type": "code",
      "execution_count": null,
      "metadata": {
        "colab": {
          "base_uri": "https://localhost:8080/"
        },
        "id": "2_2Cb4bdqDCh",
        "outputId": "c54f32be-ff2e-4ed1-c6a2-7d4f43ce4b6c"
      },
      "outputs": [
        {
          "output_type": "stream",
          "name": "stdout",
          "text": [
            "15477\n"
          ]
        }
      ],
      "source": [
        "import os\n",
        "import zipfile\n",
        "import cv2\n",
        "\n",
        "def load_images_from_zip(zip_path):\n",
        "    images = []\n",
        "    with zipfile.ZipFile(zip_path, 'r') as zip_ref:\n",
        "        for filename in zip_ref.namelist():\n",
        "            # Check if the file is an image (you may need to adjust the condition)\n",
        "            if filename.lower().endswith(('.png', '.jpg', '.jpeg','tif')):\n",
        "                with zip_ref.open(filename) as img_file:\n",
        "                    # Read image data and convert it to a NumPy array\n",
        "                    img_data = img_file.read()\n",
        "                    img = cv2.imdecode(np.frombuffer(img_data, np.uint8), cv2.IMREAD_COLOR)\n",
        "\n",
        "                    if img is not None:\n",
        "                        images.append(img)\n",
        "    return images\n",
        "\n",
        "images = load_images_from_zip(r'/content/Total Images Processed.zip')\n",
        "\n",
        "print(len(images))"
      ]
    },
    {
      "cell_type": "code",
      "execution_count": null,
      "metadata": {
        "id": "vTWUDI4sqDCi"
      },
      "outputs": [],
      "source": [
        "# resize images to 32x32\n",
        "resized_images = []\n",
        "for img in images:\n",
        "    img = cv2.resize(img, (64, 32))\n",
        "    resized_images.append(img)"
      ]
    },
    {
      "cell_type": "code",
      "execution_count": null,
      "metadata": {
        "id": "MSoZvStbqDCi",
        "colab": {
          "base_uri": "https://localhost:8080/"
        },
        "outputId": "d94f92a6-0d3b-4371-fb3e-ca7d57b96fe5"
      },
      "outputs": [
        {
          "output_type": "stream",
          "name": "stdout",
          "text": [
            "15477\n"
          ]
        }
      ],
      "source": [
        "import os\n",
        "import zipfile\n",
        "\n",
        "def load_labels_from_zip(zip_path):\n",
        "    labels = []\n",
        "    with zipfile.ZipFile(zip_path, 'r') as zip_ref:\n",
        "        for filename in zip_ref.namelist():\n",
        "            # Check if the file is a text file (you may need to adjust the condition)\n",
        "            if filename.lower().endswith('.txt'):\n",
        "                with zip_ref.open(filename) as label_file:\n",
        "                    label = label_file.read().decode('utf-8')  # Decode bytes to string\n",
        "                    labels.append(label)\n",
        "    return labels\n",
        "\n",
        "labels = load_labels_from_zip(r'/content/Total GT Processed.zip')\n",
        "print(len(labels))"
      ]
    },
    {
      "cell_type": "markdown",
      "metadata": {
        "id": "u0IluW8aqDCj"
      },
      "source": [
        "## DEALING WITH LABELS"
      ]
    },
    {
      "cell_type": "code",
      "execution_count": null,
      "metadata": {
        "id": "ZXHeKmr0qDCl"
      },
      "outputs": [],
      "source": [
        "def clean_labels(labels):\n",
        "    cleaned_labels = []\n",
        "    for label in labels:\n",
        "        label = label.split(\" \")[-1].strip()\n",
        "        cleaned_labels.append(label)\n",
        "    return cleaned_labels\n",
        "\n",
        "labels_cleaned = clean_labels(labels)"
      ]
    },
    {
      "cell_type": "code",
      "execution_count": null,
      "metadata": {
        "id": "RJoxUzFPqDCl"
      },
      "outputs": [],
      "source": [
        "# select only the images with labels cleaned\n",
        "resized_images = [img for img, label in zip(resized_images, labels_cleaned) if label]\n",
        "labels = [label for label in labels_cleaned if label]"
      ]
    },
    {
      "cell_type": "code",
      "source": [
        "#show first 10 images using plt with their repective decoded labels\n",
        "for i in range(10):\n",
        "    plt.subplot(2, 5, i+1)\n",
        "    plt.imshow(resized_images[i], cmap='gray')\n",
        "    plt.title(labels[i])\n",
        "    plt.axis('off')\n",
        "plt.show()"
      ],
      "metadata": {
        "colab": {
          "base_uri": "https://localhost:8080/",
          "height": 303
        },
        "id": "6QqeCss8p-cc",
        "outputId": "89b5a28b-1970-4f88-b49c-9b857746ed66"
      },
      "execution_count": null,
      "outputs": [
        {
          "output_type": "display_data",
          "data": {
            "text/plain": [
              "<Figure size 640x480 with 10 Axes>"
            ],
            "image/png": "[encoded data removed]"
          },
          "metadata": {}
        }
      ]
    },
    {
      "cell_type": "code",
      "execution_count": null,
      "metadata": {
        "id": "A4gcn55oqDCl"
      },
      "outputs": [],
      "source": [
        "# max_len = 0\n",
        "# characters = set()\n",
        "# for label in labels:\n",
        "#     label = label.split(\" \")[-1].strip()\n",
        "#     for char in label:\n",
        "#         characters.add(char)\n",
        "\n",
        "#     max_len = max(max_len, len(label))\n",
        "\n",
        "# print(\"Maximum length: \", max_len)\n",
        "# print(\"Vocab size: \", len(characters))"
      ]
    },
    {
      "cell_type": "code",
      "execution_count": null,
      "metadata": {
        "id": "Ec6FDjSuqDCm"
      },
      "outputs": [],
      "source": [
        "AUTOTUNE = tf.data.AUTOTUNE\n",
        "\n",
        "characters = {'ء','آ','أ','ؤ','إ','ئ','ا','ب','ة','ت','ث','ج','ح','خ','د','ذ','ر','ز','س','ش','ص','ض','ط','ظ','ع','غ','ف','ق','ك','ل','م','ن','ه','و','ى','ي'}\n",
        "max_len = 7\n",
        "# Mapping characters to integers.\n",
        "char_to_num = StringLookup(vocabulary=sorted(list(characters)), mask_token=None)\n",
        "\n",
        "# Mapping integers back to original characters.\n",
        "num_to_char = StringLookup(\n",
        "    vocabulary=char_to_num.get_vocabulary(), mask_token=None, invert=True\n",
        ")"
      ]
    },
    {
      "cell_type": "code",
      "execution_count": null,
      "metadata": {
        "id": "r3II8WmUqDCm",
        "colab": {
          "base_uri": "https://localhost:8080/"
        },
        "outputId": "acd0dd0e-1de6-4dcf-df58-4ca1d2913326"
      },
      "outputs": [
        {
          "output_type": "stream",
          "name": "stdout",
          "text": [
            "36\n"
          ]
        }
      ],
      "source": [
        "print(len(characters))"
      ]
    },
    {
      "cell_type": "code",
      "execution_count": null,
      "metadata": {
        "id": "G3uMW71JqDCn",
        "colab": {
          "base_uri": "https://localhost:8080/"
        },
        "outputId": "0ea301e6-b021-469d-f4f1-39a7c2687d6e"
      },
      "outputs": [
        {
          "output_type": "execute_result",
          "data": {
            "text/plain": [
              "{'ء',\n",
              " 'آ',\n",
              " 'أ',\n",
              " 'ؤ',\n",
              " 'إ',\n",
              " 'ئ',\n",
              " 'ا',\n",
              " 'ب',\n",
              " 'ة',\n",
              " 'ت',\n",
              " 'ث',\n",
              " 'ج',\n",
              " 'ح',\n",
              " 'خ',\n",
              " 'د',\n",
              " 'ذ',\n",
              " 'ر',\n",
              " 'ز',\n",
              " 'س',\n",
              " 'ش',\n",
              " 'ص',\n",
              " 'ض',\n",
              " 'ط',\n",
              " 'ظ',\n",
              " 'ع',\n",
              " 'غ',\n",
              " 'ف',\n",
              " 'ق',\n",
              " 'ك',\n",
              " 'ل',\n",
              " 'م',\n",
              " 'ن',\n",
              " 'ه',\n",
              " 'و',\n",
              " 'ى',\n",
              " 'ي'}"
            ]
          },
          "metadata": {},
          "execution_count": 13
        }
      ],
      "source": [
        "characters"
      ]
    },
    {
      "cell_type": "code",
      "execution_count": null,
      "metadata": {
        "id": "7q4fXSFVqDCn"
      },
      "outputs": [],
      "source": [
        "# AUTOTUNE = tf.data.AUTOTUNE\n",
        "\n",
        "# # Mapping characters to integers.\n",
        "# char_to_num = StringLookup(vocabulary=sorted(list(characters)), mask_token=None)\n",
        "\n",
        "# # Mapping integers back to original characters.\n",
        "# num_to_char = StringLookup(\n",
        "#     vocabulary=char_to_num.get_vocabulary(), mask_token=None, invert=True\n",
        "# )"
      ]
    },
    {
      "cell_type": "code",
      "execution_count": null,
      "metadata": {
        "id": "p3RN_RJmqDCn"
      },
      "outputs": [],
      "source": [
        "padding_token = 99"
      ]
    },
    {
      "cell_type": "code",
      "execution_count": null,
      "metadata": {
        "id": "Y9KbYoSHqDCo"
      },
      "outputs": [],
      "source": [
        "# Faster Vectorization (40s --> 0.8s)\n",
        "def vectorize_label(label):\n",
        "    # print(label)\n",
        "    label = char_to_num(tf.strings.unicode_split(label, input_encoding=\"UTF-8\"))\n",
        "    length = tf.shape(label)[0]\n",
        "    pad_amount = max_len - length\n",
        "    label = tf.pad(label, paddings=[[0, pad_amount]], constant_values=padding_token)\n",
        "    return label\n",
        "\n",
        "labels_v = tf.data.Dataset.from_tensor_slices(labels) # Convert labels to a dataset\n",
        "labels_v = labels_v.map(vectorize_label, num_parallel_calls=tf.data.AUTOTUNE) # Vectorize labels\n",
        "labels_v = list(labels_v.as_numpy_iterator()) # Convert labels back to a list\n"
      ]
    },
    {
      "cell_type": "code",
      "execution_count": null,
      "metadata": {
        "id": "Mcaymye2qDCo"
      },
      "outputs": [],
      "source": [
        "# Faster Devectorization (10s --> 0.3s)\n",
        "@njit(cache=True)\n",
        "def devectorize_label(label, vocabulary, padding_token):\n",
        "    # Remove padding tokens\n",
        "    label = label[label != padding_token]\n",
        "\n",
        "    # Convert label indices back to characters\n",
        "    characters = [vocabulary[idx] for idx in label]\n",
        "\n",
        "    # Concatenate characters to form the original text\n",
        "    original_text = ''.join(characters)\n",
        "\n",
        "    return original_text"
      ]
    },
    {
      "cell_type": "code",
      "execution_count": null,
      "metadata": {
        "id": "t92_o7lSqDCo"
      },
      "outputs": [],
      "source": [
        "vocab_num = np.array(char_to_num.get_vocabulary())"
      ]
    },
    {
      "cell_type": "code",
      "execution_count": null,
      "metadata": {
        "id": "RGdeS8ElqDCo",
        "colab": {
          "base_uri": "https://localhost:8080/"
        },
        "outputId": "6c2c31fa-af1a-4f63-bc1d-fd4a01f24094"
      },
      "outputs": [
        {
          "output_type": "execute_result",
          "data": {
            "text/plain": [
              "array(['[UNK]', 'ء', 'آ', 'أ', 'ؤ', 'إ', 'ئ', 'ا', 'ب', 'ة', 'ت', 'ث',\n",
              "       'ج', 'ح', 'خ', 'د', 'ذ', 'ر', 'ز', 'س', 'ش', 'ص', 'ض', 'ط', 'ظ',\n",
              "       'ع', 'غ', 'ف', 'ق', 'ك', 'ل', 'م', 'ن', 'ه', 'و', 'ى', 'ي'],\n",
              "      dtype='<U5')"
            ]
          },
          "metadata": {},
          "execution_count": 19
        }
      ],
      "source": [
        "vocab_num"
      ]
    },
    {
      "cell_type": "code",
      "execution_count": null,
      "metadata": {
        "id": "msPKeoGbqDCo",
        "colab": {
          "base_uri": "https://localhost:8080/"
        },
        "outputId": "f7439b87-64bb-4406-c8c8-44b3876404c3"
      },
      "outputs": [
        {
          "output_type": "execute_result",
          "data": {
            "text/plain": [
              "99"
            ]
          },
          "metadata": {},
          "execution_count": 20
        }
      ],
      "source": [
        "padding_token"
      ]
    },
    {
      "cell_type": "code",
      "execution_count": null,
      "metadata": {
        "id": "V2uLVyE5qDCo"
      },
      "outputs": [],
      "source": [
        "labels_de_v = [devectorize_label(label, vocab_num, padding_token) for label in labels_v]"
      ]
    },
    {
      "cell_type": "markdown",
      "metadata": {
        "id": "7_4Fj2PDqDCp"
      },
      "source": [
        "## END"
      ]
    },
    {
      "cell_type": "code",
      "execution_count": null,
      "metadata": {
        "id": "mnWX3ljAqDCp",
        "colab": {
          "base_uri": "https://localhost:8080/",
          "height": 303
        },
        "outputId": "95918431-3444-4420-d11c-4fc7b47fd280"
      },
      "outputs": [
        {
          "output_type": "display_data",
          "data": {
            "text/plain": [
              "<Figure size 640x480 with 10 Axes>"
            ],
            "image/png": "[encoded data removed]"
          },
          "metadata": {}
        }
      ],
      "source": [
        "#show first 10 images using plt with their repective decoded labels\n",
        "for i in range(10):\n",
        "    plt.subplot(2, 5, i+1)\n",
        "    plt.imshow(resized_images[i], cmap='gray')\n",
        "    plt.title(labels_de_v[i])\n",
        "    plt.axis('off')\n",
        "plt.show()"
      ]
    },
    {
      "cell_type": "code",
      "execution_count": null,
      "metadata": {
        "id": "i6atmhlAqDCp",
        "colab": {
          "base_uri": "https://localhost:8080/"
        },
        "outputId": "7ef03638-c112-4a7e-fefd-831555488a01"
      },
      "outputs": [
        {
          "output_type": "stream",
          "name": "stdout",
          "text": [
            "length of labels:  15372\n",
            "length of images 15372\n"
          ]
        }
      ],
      "source": [
        "print(\"length of labels: \",len(labels_de_v))\n",
        "print(\"length of images\",len(resized_images))\n",
        "# if not equal, error\n",
        "assert len(labels_de_v) == len(resized_images), \"The number of labels does not match the number of images, check the loading process\""
      ]
    },
    {
      "cell_type": "code",
      "execution_count": null,
      "metadata": {
        "id": "YqxRs_HYqDCp",
        "colab": {
          "base_uri": "https://localhost:8080/"
        },
        "outputId": "ed26c8f0-cfda-49ba-8357-c1de05d30028"
      },
      "outputs": [
        {
          "output_type": "execute_result",
          "data": {
            "text/plain": [
              "(15372, 32, 64, 3)"
            ]
          },
          "metadata": {},
          "execution_count": 24
        }
      ],
      "source": [
        "# reshape data\n",
        "resized_images = np.array(resized_images)\n",
        "resized_images.shape"
      ]
    },
    {
      "cell_type": "markdown",
      "metadata": {
        "id": "opnLzcbAqDCp"
      },
      "source": [
        "### Split"
      ]
    },
    {
      "cell_type": "code",
      "execution_count": null,
      "metadata": {
        "id": "SFo3kPgEqDCp"
      },
      "outputs": [],
      "source": [
        "# Normalize data\n",
        "resized_images = resized_images / 255.0"
      ]
    },
    {
      "cell_type": "code",
      "source": [
        "# First: split to train+val and test (keep test small)\n",
        "X_temp, X_test, y_temp, y_test = train_test_split(resized_images, labels_v, test_size=0.1, random_state=42, stratify=labels_v)\n",
        "\n",
        "# Then: split train into train and val\n",
        "X_train, X_val, y_train, y_val = train_test_split(X_temp, y_temp, test_size=0.1111, random_state=42, stratify=y_temp)\n",
        "# 0.1111 * 0.9 ≈ 0.1 → So you get 80/10/10 split\n"
      ],
      "metadata": {
        "id": "YaMUaIPKvGYq"
      },
      "execution_count": null,
      "outputs": []
    },
    {
      "cell_type": "code",
      "execution_count": null,
      "metadata": {
        "id": "jCeMVNgoqDCq"
      },
      "outputs": [],
      "source": [
        "y_train = np.array(y_train)\n",
        "y_test = np.array(y_test)"
      ]
    },
    {
      "cell_type": "markdown",
      "metadata": {
        "id": "YgpAaXc8qDCq"
      },
      "source": [
        "## LOSS"
      ]
    },
    {
      "cell_type": "code",
      "execution_count": null,
      "metadata": {
        "id": "xak0t50oqDCq"
      },
      "outputs": [],
      "source": [
        "import keras\n",
        "class CTCLayer(keras.layers.Layer):\n",
        "    def __init__(self, name=None, **kwargs):\n",
        "        super().__init__(name=name, **kwargs)\n",
        "        self.loss_fn = keras.backend.ctc_batch_cost\n",
        "\n",
        "    def call(self, y_true, y_pred):\n",
        "        batch_len = tf.cast(tf.shape(y_true)[0], dtype=\"int64\")\n",
        "        input_length = tf.cast(tf.shape(y_pred)[1], dtype=\"int64\")\n",
        "        label_length = tf.cast(tf.shape(y_true)[1], dtype=\"int64\")\n",
        "\n",
        "        input_length = input_length * tf.ones(shape=(batch_len, 1), dtype=\"int64\")\n",
        "        label_length = label_length * tf.ones(shape=(batch_len, 1), dtype=\"int64\")\n",
        "        loss = self.loss_fn(y_true, y_pred, input_length, label_length)\n",
        "        self.add_loss(loss)\n",
        "\n",
        "        # At test time, just return the computed predictions.\n",
        "        return y_pred\n",
        "\n",
        "    def get_config(self):\n",
        "        config = super().get_config()\n",
        "        return config\n",
        "\n",
        "    @classmethod\n",
        "    def from_config(cls, config):\n",
        "        return cls(**config)"
      ]
    },
    {
      "cell_type": "code",
      "execution_count": null,
      "metadata": {
        "id": "kScgCtgfqDCq"
      },
      "outputs": [],
      "source": [
        "\n",
        "def decode_batch_predictions(pred):\n",
        "    input_len = np.ones(pred.shape[0]) * pred.shape[1]\n",
        "    # Use greedy search. For complex tasks, you can use beam search.\n",
        "    results = keras.backend.ctc_decode(pred, input_length=input_len, greedy=True)[0][0][\n",
        "        :, :max_len\n",
        "    ]\n",
        "    # Iterate over the results and get back the text.\n",
        "    output_text = []\n",
        "    for res in results:\n",
        "        res = tf.gather(res, tf.where(tf.math.not_equal(res, -1)))\n",
        "        res = tf.strings.reduce_join(num_to_char(res)).numpy().decode(\"utf-8\")\n",
        "        output_text.append(res)\n",
        "    return output_text"
      ]
    },
    {
      "cell_type": "code",
      "execution_count": null,
      "metadata": {
        "id": "3oZDJBznqDCq"
      },
      "outputs": [],
      "source": [
        "from tensorflow.keras.callbacks import Callback\n",
        "# Custom callback for calculating CER after each epoch\n",
        "class CalculateCER(Callback):\n",
        "    def __init__(self, validation_images, validation_labels):\n",
        "        super(CalculateCER, self).__init__()\n",
        "        self.validation_images = validation_images\n",
        "        self.validation_labels = validation_labels\n",
        "        self.cer_history = []\n",
        "\n",
        "    def on_epoch_end(self, epoch, logs=None):\n",
        "        y_true = self.validation_labels  # True labels\n",
        "        y_pred = self.model.predict([self.validation_images, np.zeros_like(self.validation_labels)])  # Predicted labels\n",
        "        y_true_text = [devectorize_label(label,vocab_num, padding_token) for label in y_true]\n",
        "        y_pred_text = decode_batch_predictions(y_pred)\n",
        "        # print(f'Predicted text: {y_pred_text}')\n",
        "        # print(f'True text: {y_true_text}')\n",
        "        cer = self.calculate_cer(y_true_text, y_pred_text)\n",
        "        self.cer_history.append(cer)\n",
        "        print(f'\\nCharacter Error Rate (CER) after epoch {epoch + 1}: {cer}')\n",
        "\n",
        "    def calculate_cer(self, y_true, y_pred):\n",
        "        total_distance = 0\n",
        "        total_true_char = 0\n",
        "        for true_seq, pred_seq in zip(y_true, y_pred):\n",
        "            true_seq = true_seq.rstrip('\\n')\n",
        "            pred_seq = pred_seq.rstrip('\\n')\n",
        "            total_distance += Levenshtein.distance(true_seq, pred_seq)\n",
        "            total_true_char += len(true_seq)\n",
        "        cer = total_distance / total_true_char\n",
        "        return cer\n"
      ]
    },
    {
      "cell_type": "code",
      "execution_count": null,
      "metadata": {
        "id": "fjm-q4vRqDCq",
        "colab": {
          "base_uri": "https://localhost:8080/"
        },
        "outputId": "c2eb36e4-fb9b-4663-b8ff-b1c71bed05a5"
      },
      "outputs": [
        {
          "output_type": "execute_result",
          "data": {
            "text/plain": [
              "17230"
            ]
          },
          "metadata": {},
          "execution_count": 31
        }
      ],
      "source": [
        "# remove not needed images variable from memory and garbage collect\n",
        "del images\n",
        "gc.collect()"
      ]
    },
    {
      "cell_type": "markdown",
      "metadata": {
        "id": "kV9R8Z0UqDCr"
      },
      "source": [
        "## Pre-Trained ResNet50V2 Alphabetical"
      ]
    },
    {
      "cell_type": "code",
      "source": [
        "import keras\n",
        "\n",
        "class CTCLayer(keras.layers.Layer):\n",
        "    def __init__(self, name=None, **kwargs):\n",
        "        super().__init__(name=name, **kwargs)\n",
        "        # Use tf.keras.backend.ctc_batch_cost directly\n",
        "        self.loss_fn = tf.keras.backend.ctc_batch_cost\n",
        "\n",
        "    def call(self, y_true, y_pred):\n",
        "        batch_len = tf.cast(tf.shape(y_true)[0], dtype=\"int64\")\n",
        "        input_length = tf.cast(tf.shape(y_pred)[1], dtype=\"int64\")\n",
        "        label_length = tf.cast(tf.shape(y_true)[1], dtype=\"int64\")\n",
        "\n",
        "        input_length = input_length * tf.ones(shape=(batch_len, 1), dtype=\"int64\")\n",
        "        label_length = label_length * tf.ones(shape=(batch_len, 1), dtype=\"int64\")\n",
        "        loss = self.loss_fn(y_true, y_pred, input_length, label_length)\n",
        "        self.add_loss(loss)\n",
        "\n",
        "        # At test time, just return the computed predictions.\n",
        "        return y_pred\n",
        "\n",
        "    def get_config(self):\n",
        "        config = super().get_config()\n",
        "        return config\n",
        "\n",
        "    @classmethod\n",
        "    def from_config(cls, config):\n",
        "        return cls(**config)"
      ],
      "metadata": {
        "id": "knD0Fc5C4a1Q"
      },
      "execution_count": null,
      "outputs": []
    },
    {
      "cell_type": "code",
      "execution_count": null,
      "metadata": {
        "id": "W_ePPnciqDCr",
        "colab": {
          "base_uri": "https://localhost:8080/"
        },
        "outputId": "10b37760-cc32-4f1b-edf1-866412010c86"
      },
      "outputs": [
        {
          "output_type": "stream",
          "name": "stderr",
          "text": [
            "WARNING:absl:Compiled the loaded model, but the compiled metrics have yet to be built. `model.compile_metrics` will be empty until you train or evaluate the model.\n"
          ]
        }
      ],
      "source": [
        "#load model\n",
        "model = keras.models.load_model(\"/content/drive/MyDrive/Paper_Resnet512-WP-f.h5\", custom_objects={\"CTCLayer\": CTCLayer})\n",
        "model.compile(optimizer=keras.optimizers.Adam(learning_rate=0.001, beta_1=0.9, beta_2=0.999, epsilon=1e-07))"
      ]
    },
    {
      "cell_type": "code",
      "execution_count": null,
      "metadata": {
        "id": "gA8x8dgAqDCr"
      },
      "outputs": [],
      "source": [
        "# # learning rate scheduler\n",
        "# from tensorflow.keras.callbacks import ReduceLROnPlateau\n",
        "# lr_scheduler = ReduceLROnPlateau(monitor='val_loss', factor=0.2, patience=5, min_lr=0.00001)\n",
        "\n",
        "cer = CalculateCER(X_test, y_test)"
      ]
    },
    {
      "cell_type": "code",
      "execution_count": null,
      "metadata": {
        "id": "dyzR0z8fqDCs"
      },
      "outputs": [],
      "source": [
        "# Define the learning rate scheduler\n",
        "total_epochs = 70\n",
        "def cosine_decay(epoch, lr):\n",
        "    max_lr = 0.001  # Maximum learning rate\n",
        "    min_lr = 0.00001  # Minimum learning rate\n",
        "    step_size = total_epochs // 2  # Number of epochs for half of the cosine cycle\n",
        "    decayed_lr = min_lr + 0.5 * (max_lr - min_lr) * (1 + tf.math.cos((epoch % step_size) / step_size * 3.1415))\n",
        "    return decayed_lr\n",
        "\n",
        "lr_scheduler = keras.callbacks.LearningRateScheduler(cosine_decay)"
      ]
    },
    {
      "cell_type": "code",
      "execution_count": null,
      "metadata": {
        "id": "-bZ8nQHzqDCs"
      },
      "outputs": [],
      "source": [
        "from tensorflow.keras import mixed_precision\n",
        "policy = mixed_precision.Policy('mixed_float16')\n",
        "mixed_precision.set_global_policy(policy)\n",
        "\n",
        "# set Random seed\n",
        "tf.random.set_seed(42)"
      ]
    },
    {
      "cell_type": "code",
      "source": [
        "# Define the learning rate scheduler\n",
        "total_epochs = 30\n",
        "def cosine_decay(epoch, lr):\n",
        "    max_lr = 0.001  # Maximum learning rate\n",
        "    min_lr = 0.00001  # Minimum learning rate\n",
        "    step_size = total_epochs // 2  # Number of epochs for half of the cosine cycle\n",
        "    # Convert the result of tf.math.cos to a NumPy float using .numpy()\n",
        "    decayed_lr = min_lr + 0.5 * (max_lr - min_lr) * (1 + tf.math.cos((epoch % step_size) / step_size * 3.1415).numpy())\n",
        "    return decayed_lr\n",
        "\n",
        "lr_scheduler = keras.callbacks.LearningRateScheduler(cosine_decay)"
      ],
      "metadata": {
        "id": "b-GlN9dm4vOs"
      },
      "execution_count": null,
      "outputs": []
    },
    {
      "cell_type": "code",
      "source": [
        "def decode_batch_predictions(pred):\n",
        "    input_len = np.ones(pred.shape[0]) * pred.shape[1]\n",
        "    # Use greedy search. For complex tasks, you can use beam search.\n",
        "    # Changed keras.backend.ctc_decode to tf.keras.backend.ctc_decode\n",
        "    results = tf.keras.backend.ctc_decode(pred, input_length=input_len, greedy=True)[0][0][\n",
        "        :, :max_len\n",
        "    ]\n",
        "    # Iterate over the results and get back the text.\n",
        "    output_text = []\n",
        "    for res in results:\n",
        "        res = tf.gather(res, tf.where(tf.math.not_equal(res, -1)))\n",
        "        res = tf.strings.reduce_join(num_to_char(res)).numpy().decode(\"utf-8\")\n",
        "        output_text.append(res)\n",
        "    return output_text"
      ],
      "metadata": {
        "id": "4v1Rv-SbByGp"
      },
      "execution_count": null,
      "outputs": []
    },
    {
      "cell_type": "code",
      "execution_count": null,
      "metadata": {
        "id": "TG6ompV3qDCs",
        "colab": {
          "base_uri": "https://localhost:8080/"
        },
        "outputId": "1cf56e30-23df-4077-bb88-1d15ccd9ed28"
      },
      "outputs": [
        {
          "output_type": "stream",
          "name": "stdout",
          "text": [
            "Epoch 1/30\n",
            "\u001b[1m49/49\u001b[0m \u001b[32m━━━━━━━━━━━━━━━━━━━━\u001b[0m\u001b[37m\u001b[0m \u001b[1m13s\u001b[0m 150ms/step\n",
            "\n",
            "Character Error Rate (CER) after epoch 1: 1.9578872234118487\n",
            "\u001b[1m97/97\u001b[0m \u001b[32m━━━━━━━━━━━━━━━━━━━━\u001b[0m\u001b[37m\u001b[0m \u001b[1m139s\u001b[0m 678ms/step - loss: 1317.8494 - val_loss: 3734.8391 - learning_rate: 1.0000e-03\n",
            "Epoch 2/30\n",
            "\u001b[1m49/49\u001b[0m \u001b[32m━━━━━━━━━━━━━━━━━━━━\u001b[0m\u001b[37m\u001b[0m \u001b[1m2s\u001b[0m 38ms/step\n",
            "\n",
            "Character Error Rate (CER) after epoch 2: 1.2543421365691172\n",
            "\u001b[1m97/97\u001b[0m \u001b[32m━━━━━━━━━━━━━━━━━━━━\u001b[0m\u001b[37m\u001b[0m \u001b[1m48s\u001b[0m 495ms/step - loss: 713.5354 - val_loss: 2424.5415 - learning_rate: 9.8918e-04\n",
            "Epoch 3/30\n",
            "\u001b[1m49/49\u001b[0m \u001b[32m━━━━━━━━━━━━━━━━━━━━\u001b[0m\u001b[37m\u001b[0m \u001b[1m2s\u001b[0m 39ms/step\n",
            "\n",
            "Character Error Rate (CER) after epoch 3: 0.702355460385439\n",
            "\u001b[1m97/97\u001b[0m \u001b[32m━━━━━━━━━━━━━━━━━━━━\u001b[0m\u001b[37m\u001b[0m \u001b[1m82s\u001b[0m 492ms/step - loss: 555.5346 - val_loss: 1028.9667 - learning_rate: 9.5721e-04\n",
            "Epoch 4/30\n",
            "\u001b[1m49/49\u001b[0m \u001b[32m━━━━━━━━━━━━━━━━━━━━\u001b[0m\u001b[37m\u001b[0m \u001b[1m2s\u001b[0m 39ms/step\n",
            "\n",
            "Character Error Rate (CER) after epoch 4: 0.6621460861289555\n",
            "\u001b[1m97/97\u001b[0m \u001b[32m━━━━━━━━━━━━━━━━━━━━\u001b[0m\u001b[37m\u001b[0m \u001b[1m82s\u001b[0m 488ms/step - loss: 407.8492 - val_loss: 951.2690 - learning_rate: 9.0547e-04\n",
            "Epoch 5/30\n",
            "\u001b[1m49/49\u001b[0m \u001b[32m━━━━━━━━━━━━━━━━━━━━\u001b[0m\u001b[37m\u001b[0m \u001b[1m2s\u001b[0m 39ms/step\n",
            "\n",
            "Character Error Rate (CER) after epoch 5: 0.38591482274565786\n",
            "\u001b[1m97/97\u001b[0m \u001b[32m━━━━━━━━━━━━━━━━━━━━\u001b[0m\u001b[37m\u001b[0m \u001b[1m82s\u001b[0m 492ms/step - loss: 332.7089 - val_loss: 480.8057 - learning_rate: 8.3623e-04\n",
            "Epoch 6/30\n",
            "\u001b[1m49/49\u001b[0m \u001b[32m━━━━━━━━━━━━━━━━━━━━\u001b[0m\u001b[37m\u001b[0m \u001b[1m2s\u001b[0m 43ms/step\n",
            "\n",
            "Character Error Rate (CER) after epoch 6: 0.2410183202474423\n",
            "\u001b[1m97/97\u001b[0m \u001b[32m━━━━━━━━━━━━━━━━━━━━\u001b[0m\u001b[37m\u001b[0m \u001b[1m48s\u001b[0m 493ms/step - loss: 212.9934 - val_loss: 268.3309 - learning_rate: 7.5251e-04\n",
            "Epoch 7/30\n",
            "\u001b[1m49/49\u001b[0m \u001b[32m━━━━━━━━━━━━━━━━━━━━\u001b[0m\u001b[37m\u001b[0m \u001b[1m2s\u001b[0m 38ms/step\n",
            "\n",
            "Character Error Rate (CER) after epoch 7: 0.17725434213656913\n",
            "\u001b[1m97/97\u001b[0m \u001b[32m━━━━━━━━━━━━━━━━━━━━\u001b[0m\u001b[37m\u001b[0m \u001b[1m80s\u001b[0m 476ms/step - loss: 141.2579 - val_loss: 201.5824 - learning_rate: 6.5798e-04\n",
            "Epoch 8/30\n",
            "\u001b[1m49/49\u001b[0m \u001b[32m━━━━━━━━━━━━━━━━━━━━\u001b[0m\u001b[37m\u001b[0m \u001b[1m2s\u001b[0m 39ms/step\n",
            "\n",
            "Character Error Rate (CER) after epoch 8: 0.13823459433737806\n",
            "\u001b[1m97/97\u001b[0m \u001b[32m━━━━━━━━━━━━━━━━━━━━\u001b[0m\u001b[37m\u001b[0m \u001b[1m82s\u001b[0m 482ms/step - loss: 102.6032 - val_loss: 156.6312 - learning_rate: 5.5676e-04\n",
            "Epoch 9/30\n",
            "\u001b[1m49/49\u001b[0m \u001b[32m━━━━━━━━━━━━━━━━━━━━\u001b[0m\u001b[37m\u001b[0m \u001b[1m2s\u001b[0m 40ms/step\n",
            "\n",
            "Character Error Rate (CER) after epoch 9: 0.12824173209612183\n",
            "\u001b[1m97/97\u001b[0m \u001b[32m━━━━━━━━━━━━━━━━━━━━\u001b[0m\u001b[37m\u001b[0m \u001b[1m82s\u001b[0m 484ms/step - loss: 68.8205 - val_loss: 138.1938 - learning_rate: 4.5328e-04\n",
            "Epoch 10/30\n",
            "\u001b[1m49/49\u001b[0m \u001b[32m━━━━━━━━━━━━━━━━━━━━\u001b[0m\u001b[37m\u001b[0m \u001b[1m2s\u001b[0m 45ms/step\n",
            "\n",
            "Character Error Rate (CER) after epoch 10: 0.09588389245776827\n",
            "\u001b[1m97/97\u001b[0m \u001b[32m━━━━━━━━━━━━━━━━━━━━\u001b[0m\u001b[37m\u001b[0m \u001b[1m83s\u001b[0m 493ms/step - loss: 46.8873 - val_loss: 111.0770 - learning_rate: 3.5206e-04\n",
            "Epoch 11/30\n",
            "\u001b[1m49/49\u001b[0m \u001b[32m━━━━━━━━━━━━━━━━━━━━\u001b[0m\u001b[37m\u001b[0m \u001b[1m2s\u001b[0m 38ms/step\n",
            "\n",
            "Character Error Rate (CER) after epoch 11: 0.0808945990958839\n",
            "\u001b[1m97/97\u001b[0m \u001b[32m━━━━━━━━━━━━━━━━━━━━\u001b[0m\u001b[37m\u001b[0m \u001b[1m48s\u001b[0m 493ms/step - loss: 33.9104 - val_loss: 87.9040 - learning_rate: 2.5753e-04\n",
            "Epoch 12/30\n",
            "\u001b[1m49/49\u001b[0m \u001b[32m━━━━━━━━━━━━━━━━━━━━\u001b[0m\u001b[37m\u001b[0m \u001b[1m2s\u001b[0m 44ms/step\n",
            "\n",
            "Character Error Rate (CER) after epoch 12: 0.06566738044254104\n",
            "\u001b[1m97/97\u001b[0m \u001b[32m━━━━━━━━━━━━━━━━━━━━\u001b[0m\u001b[37m\u001b[0m \u001b[1m81s\u001b[0m 486ms/step - loss: 22.1755 - val_loss: 75.4636 - learning_rate: 1.7381e-04\n",
            "Epoch 13/30\n",
            "\u001b[1m49/49\u001b[0m \u001b[32m━━━━━━━━━━━━━━━━━━━━\u001b[0m\u001b[37m\u001b[0m \u001b[1m2s\u001b[0m 40ms/step\n",
            "\n",
            "Character Error Rate (CER) after epoch 13: 0.055912443492743276\n",
            "\u001b[1m97/97\u001b[0m \u001b[32m━━━━━━━━━━━━━━━━━━━━\u001b[0m\u001b[37m\u001b[0m \u001b[1m83s\u001b[0m 496ms/step - loss: 16.2870 - val_loss: 70.9489 - learning_rate: 1.0456e-04\n",
            "Epoch 14/30\n",
            "\u001b[1m49/49\u001b[0m \u001b[32m━━━━━━━━━━━━━━━━━━━━\u001b[0m\u001b[37m\u001b[0m \u001b[1m2s\u001b[0m 41ms/step\n",
            "\n",
            "Character Error Rate (CER) after epoch 14: 0.055674518201284794\n",
            "\u001b[1m97/97\u001b[0m \u001b[32m━━━━━━━━━━━━━━━━━━━━\u001b[0m\u001b[37m\u001b[0m \u001b[1m81s\u001b[0m 489ms/step - loss: 13.5140 - val_loss: 67.2183 - learning_rate: 5.2811e-05\n",
            "Epoch 15/30\n",
            "\u001b[1m49/49\u001b[0m \u001b[32m━━━━━━━━━━━━━━━━━━━━\u001b[0m\u001b[37m\u001b[0m \u001b[1m2s\u001b[0m 39ms/step\n",
            "\n",
            "Character Error Rate (CER) after epoch 15: 0.05329526528669998\n",
            "\u001b[1m97/97\u001b[0m \u001b[32m━━━━━━━━━━━━━━━━━━━━\u001b[0m\u001b[37m\u001b[0m \u001b[1m47s\u001b[0m 489ms/step - loss: 11.5382 - val_loss: 65.8593 - learning_rate: 2.0826e-05\n",
            "Epoch 16/30\n",
            "\u001b[1m49/49\u001b[0m \u001b[32m━━━━━━━━━━━━━━━━━━━━\u001b[0m\u001b[37m\u001b[0m \u001b[1m2s\u001b[0m 40ms/step\n",
            "\n",
            "Character Error Rate (CER) after epoch 16: 0.8731858196526291\n",
            "\u001b[1m97/97\u001b[0m \u001b[32m━━━━━━━━━━━━━━━━━━━━\u001b[0m\u001b[37m\u001b[0m \u001b[1m46s\u001b[0m 474ms/step - loss: 120.7802 - val_loss: 1408.1021 - learning_rate: 1.0000e-03\n",
            "Epoch 17/30\n",
            "\u001b[1m49/49\u001b[0m \u001b[32m━━━━━━━━━━━━━━━━━━━━\u001b[0m\u001b[37m\u001b[0m \u001b[1m2s\u001b[0m 43ms/step\n",
            "\n",
            "Character Error Rate (CER) after epoch 17: 0.31858196526290744\n",
            "\u001b[1m97/97\u001b[0m \u001b[32m━━━━━━━━━━━━━━━━━━━━\u001b[0m\u001b[37m\u001b[0m \u001b[1m83s\u001b[0m 489ms/step - loss: 219.8759 - val_loss: 389.7822 - learning_rate: 9.8918e-04\n",
            "Epoch 18/30\n",
            "\u001b[1m49/49\u001b[0m \u001b[32m━━━━━━━━━━━━━━━━━━━━\u001b[0m\u001b[37m\u001b[0m \u001b[1m2s\u001b[0m 38ms/step\n",
            "\n",
            "Character Error Rate (CER) after epoch 18: 0.19605044016178919\n",
            "\u001b[1m97/97\u001b[0m \u001b[32m━━━━━━━━━━━━━━━━━━━━\u001b[0m\u001b[37m\u001b[0m \u001b[1m82s\u001b[0m 487ms/step - loss: 126.3645 - val_loss: 228.1344 - learning_rate: 9.5721e-04\n",
            "Epoch 19/30\n",
            "\u001b[1m49/49\u001b[0m \u001b[32m━━━━━━━━━━━━━━━━━━━━\u001b[0m\u001b[37m\u001b[0m \u001b[1m2s\u001b[0m 45ms/step\n",
            "\n",
            "Character Error Rate (CER) after epoch 19: 0.17035450868427313\n",
            "\u001b[1m97/97\u001b[0m \u001b[32m━━━━━━━━━━━━━━━━━━━━\u001b[0m\u001b[37m\u001b[0m \u001b[1m82s\u001b[0m 487ms/step - loss: 92.4716 - val_loss: 179.5872 - learning_rate: 9.0547e-04\n",
            "Epoch 20/30\n",
            "\u001b[1m49/49\u001b[0m \u001b[32m━━━━━━━━━━━━━━━━━━━━\u001b[0m\u001b[37m\u001b[0m \u001b[1m2s\u001b[0m 38ms/step\n",
            "\n",
            "Character Error Rate (CER) after epoch 20: 0.15988579586009993\n",
            "\u001b[1m97/97\u001b[0m \u001b[32m━━━━━━━━━━━━━━━━━━━━\u001b[0m\u001b[37m\u001b[0m \u001b[1m80s\u001b[0m 473ms/step - loss: 70.5746 - val_loss: 190.2754 - learning_rate: 8.3623e-04\n",
            "Epoch 21/30\n",
            "\u001b[1m49/49\u001b[0m \u001b[32m━━━━━━━━━━━━━━━━━━━━\u001b[0m\u001b[37m\u001b[0m \u001b[1m2s\u001b[0m 44ms/step\n",
            "\n",
            "Character Error Rate (CER) after epoch 21: 0.11349036402569593\n",
            "\u001b[1m97/97\u001b[0m \u001b[32m━━━━━━━━━━━━━━━━━━━━\u001b[0m\u001b[37m\u001b[0m \u001b[1m46s\u001b[0m 475ms/step - loss: 45.7064 - val_loss: 127.9646 - learning_rate: 7.5251e-04\n",
            "Epoch 22/30\n",
            "\u001b[1m49/49\u001b[0m \u001b[32m━━━━━━━━━━━━━━━━━━━━\u001b[0m\u001b[37m\u001b[0m \u001b[1m2s\u001b[0m 39ms/step\n",
            "\n",
            "Character Error Rate (CER) after epoch 22: 0.08113252438734238\n",
            "\u001b[1m97/97\u001b[0m \u001b[32m━━━━━━━━━━━━━━━━━━━━\u001b[0m\u001b[37m\u001b[0m \u001b[1m47s\u001b[0m 481ms/step - loss: 27.6241 - val_loss: 87.1383 - learning_rate: 6.5798e-04\n",
            "Epoch 23/30\n",
            "\u001b[1m49/49\u001b[0m \u001b[32m━━━━━━━━━━━━━━━━━━━━\u001b[0m\u001b[37m\u001b[0m \u001b[1m2s\u001b[0m 39ms/step\n",
            "\n",
            "Character Error Rate (CER) after epoch 23: 0.056864144658577205\n",
            "\u001b[1m97/97\u001b[0m \u001b[32m━━━━━━━━━━━━━━━━━━━━\u001b[0m\u001b[37m\u001b[0m \u001b[1m48s\u001b[0m 489ms/step - loss: 19.7314 - val_loss: 65.3405 - learning_rate: 5.5676e-04\n",
            "Epoch 24/30\n",
            "\u001b[1m49/49\u001b[0m \u001b[32m━━━━━━━━━━━━━━━━━━━━\u001b[0m\u001b[37m\u001b[0m \u001b[1m2s\u001b[0m 41ms/step\n",
            "\n",
            "Character Error Rate (CER) after epoch 24: 0.046395431834404\n",
            "\u001b[1m97/97\u001b[0m \u001b[32m━━━━━━━━━━━━━━━━━━━━\u001b[0m\u001b[37m\u001b[0m \u001b[1m48s\u001b[0m 493ms/step - loss: 11.0230 - val_loss: 52.2654 - learning_rate: 4.5328e-04\n",
            "Epoch 25/30\n",
            "\u001b[1m49/49\u001b[0m \u001b[32m━━━━━━━━━━━━━━━━━━━━\u001b[0m\u001b[37m\u001b[0m \u001b[1m2s\u001b[0m 39ms/step\n",
            "\n",
            "Character Error Rate (CER) after epoch 25: 0.03854389721627409\n",
            "\u001b[1m97/97\u001b[0m \u001b[32m━━━━━━━━━━━━━━━━━━━━\u001b[0m\u001b[37m\u001b[0m \u001b[1m81s\u001b[0m 486ms/step - loss: 7.2020 - val_loss: 52.1122 - learning_rate: 3.5206e-04\n",
            "Epoch 26/30\n",
            "\u001b[1m49/49\u001b[0m \u001b[32m━━━━━━━━━━━━━━━━━━━━\u001b[0m\u001b[37m\u001b[0m \u001b[1m2s\u001b[0m 43ms/step\n",
            "\n",
            "Character Error Rate (CER) after epoch 26: 0.03568879371877231\n",
            "\u001b[1m97/97\u001b[0m \u001b[32m━━━━━━━━━━━━━━━━━━━━\u001b[0m\u001b[37m\u001b[0m \u001b[1m47s\u001b[0m 489ms/step - loss: 5.6733 - val_loss: 47.3532 - learning_rate: 2.5753e-04\n",
            "Epoch 27/30\n",
            "\u001b[1m49/49\u001b[0m \u001b[32m━━━━━━━━━━━━━━━━━━━━\u001b[0m\u001b[37m\u001b[0m \u001b[1m2s\u001b[0m 39ms/step\n",
            "\n",
            "Character Error Rate (CER) after epoch 27: 0.03497501784439686\n",
            "\u001b[1m97/97\u001b[0m \u001b[32m━━━━━━━━━━━━━━━━━━━━\u001b[0m\u001b[37m\u001b[0m \u001b[1m47s\u001b[0m 479ms/step - loss: 3.3747 - val_loss: 47.8366 - learning_rate: 1.7381e-04\n",
            "Epoch 28/30\n",
            "\u001b[1m49/49\u001b[0m \u001b[32m━━━━━━━━━━━━━━━━━━━━\u001b[0m\u001b[37m\u001b[0m \u001b[1m2s\u001b[0m 40ms/step\n",
            "\n",
            "Character Error Rate (CER) after epoch 28: 0.03402331667856293\n",
            "\u001b[1m97/97\u001b[0m \u001b[32m━━━━━━━━━━━━━━━━━━━━\u001b[0m\u001b[37m\u001b[0m \u001b[1m82s\u001b[0m 475ms/step - loss: 2.8239 - val_loss: 45.5636 - learning_rate: 1.0456e-04\n",
            "Epoch 29/30\n",
            "\u001b[1m49/49\u001b[0m \u001b[32m━━━━━━━━━━━━━━━━━━━━\u001b[0m\u001b[37m\u001b[0m \u001b[1m2s\u001b[0m 39ms/step\n",
            "\n",
            "Character Error Rate (CER) after epoch 29: 0.03140613847251963\n",
            "\u001b[1m97/97\u001b[0m \u001b[32m━━━━━━━━━━━━━━━━━━━━\u001b[0m\u001b[37m\u001b[0m \u001b[1m81s\u001b[0m 469ms/step - loss: 2.4424 - val_loss: 45.1223 - learning_rate: 5.2811e-05\n",
            "Epoch 30/30\n",
            "\u001b[1m49/49\u001b[0m \u001b[32m━━━━━━━━━━━━━━━━━━━━\u001b[0m\u001b[37m\u001b[0m \u001b[1m2s\u001b[0m 38ms/step\n",
            "\n",
            "Character Error Rate (CER) after epoch 30: 0.029978586723768737\n",
            "\u001b[1m97/97\u001b[0m \u001b[32m━━━━━━━━━━━━━━━━━━━━\u001b[0m\u001b[37m\u001b[0m \u001b[1m82s\u001b[0m 471ms/step - loss: 2.1170 - val_loss: 46.2939 - learning_rate: 2.0826e-05\n"
          ]
        }
      ],
      "source": [
        "# Train the model\n",
        "history = model.fit(\n",
        "    [X_train, y_train],\n",
        "    epochs=total_epochs,\n",
        "    validation_data=([X_test, y_test], y_test),\n",
        "    batch_size=128,\n",
        "    callbacks=[lr_scheduler, cer]\n",
        ")"
      ]
    },
    {
      "cell_type": "code",
      "source": [
        "# Save the trained model\n",
        "model.save(\"resnet50v2_trained_model.h5\")"
      ],
      "metadata": {
        "colab": {
          "base_uri": "https://localhost:8080/"
        },
        "id": "QqLDPYuakwBS",
        "outputId": "a083f431-9042-4137-fc46-b6753b7a2c9c"
      },
      "execution_count": null,
      "outputs": [
        {
          "output_type": "stream",
          "name": "stderr",
          "text": [
            "WARNING:absl:You are saving your model as an HDF5 file via `model.save()` or `keras.saving.save_model(model)`. This file format is considered legacy. We recommend using instead the native Keras format, e.g. `model.save('my_model.keras')` or `keras.saving.save_model(model, 'my_model.keras')`. \n"
          ]
        }
      ]
    },
    {
      "cell_type": "code",
      "execution_count": null,
      "metadata": {
        "id": "Fqnk8kh8qDCs",
        "colab": {
          "base_uri": "https://localhost:8080/",
          "height": 472
        },
        "outputId": "9d9b3b40-b3b3-4e7e-9288-23cad2fe79fc"
      },
      "outputs": [
        {
          "output_type": "display_data",
          "data": {
            "text/plain": [
              "<Figure size 640x480 with 1 Axes>"
            ],
            "image/png": "[encoded data removed]"
          },
          "metadata": {}
        }
      ],
      "source": [
        "# Plot the loss curve and CER curve\n",
        "# normlize to 100%\n",
        "cer_plot=[]\n",
        "for value in cer.cer_history:\n",
        "    value = value * 100\n",
        "    cer_plot.append(value)\n",
        "\n",
        "plt.plot(history.history['loss'], label='Training Loss')\n",
        "plt.plot(history.history['val_loss'], label='Validation Loss')\n",
        "plt.plot(cer_plot, label='Character Error Rate (CER)')\n",
        "plt.xlabel('Epochs')\n",
        "plt.ylabel('Loss / CER (%)')\n",
        "plt.title('Loss and CER Curve')\n",
        "plt.legend()\n",
        "plt.show()"
      ]
    },
    {
      "cell_type": "code",
      "execution_count": null,
      "metadata": {
        "id": "rxTSlvXMqDCw",
        "colab": {
          "base_uri": "https://localhost:8080/"
        },
        "outputId": "c0ec6681-9ebb-4f50-ebc8-3e814a910bb1"
      },
      "outputs": [
        {
          "output_type": "stream",
          "name": "stderr",
          "text": [
            "WARNING:absl:You are saving your model as an HDF5 file via `model.save()` or `keras.saving.save_model(model)`. This file format is considered legacy. We recommend using instead the native Keras format, e.g. `model.save('my_model.keras')` or `keras.saving.save_model(model, 'my_model.keras')`. \n"
          ]
        }
      ],
      "source": [
        "model_without_CTC = tf.keras.Model(inputs=model.inputs, outputs=model.layers[-2].output)\n",
        "\n",
        "# Save the model\n",
        "model_without_CTC.save('Res50V2Alpha_without_CTC.h5')"
      ]
    },
    {
      "cell_type": "code",
      "source": [
        "# from tensorflow.keras.models import load_model\n",
        "# model_without_CTC = load_model('/content/drive/MyDrive/Res50V2Alpha_without_CTC.h5')"
      ],
      "metadata": {
        "id": "dsnrfPWFNYBz"
      },
      "execution_count": null,
      "outputs": []
    },
    {
      "cell_type": "markdown",
      "metadata": {
        "id": "Q2KzEtabqDCx"
      },
      "source": [
        "## Evaluation"
      ]
    },
    {
      "cell_type": "code",
      "execution_count": null,
      "metadata": {
        "id": "X5AtfHZjqDCx"
      },
      "outputs": [],
      "source": [
        "# Evaluate the model #Not needed for now\n",
        "# model.evaluate([X_test, y_test])"
      ]
    },
    {
      "cell_type": "code",
      "execution_count": null,
      "metadata": {
        "id": "fuEbiT7YqDCx",
        "colab": {
          "base_uri": "https://localhost:8080/"
        },
        "outputId": "6d2c5e87-e5b3-4df4-bd51-eab5d372d2ae"
      },
      "outputs": [
        {
          "output_type": "stream",
          "name": "stdout",
          "text": [
            "\u001b[1m49/49\u001b[0m \u001b[32m━━━━━━━━━━━━━━━━━━━━\u001b[0m\u001b[37m\u001b[0m \u001b[1m2s\u001b[0m 47ms/step\n"
          ]
        }
      ],
      "source": [
        "# predict\n",
        "y_pred = model.predict([X_val, np.zeros_like(y_val)]) # predict without labels"
      ]
    },
    {
      "cell_type": "code",
      "execution_count": null,
      "metadata": {
        "id": "3X5Zx_K7qDCx",
        "colab": {
          "base_uri": "https://localhost:8080/"
        },
        "outputId": "22b48bcc-ee36-4749-81c3-643b0d028a97"
      },
      "outputs": [
        {
          "output_type": "execute_result",
          "data": {
            "text/plain": [
              "dtype('int64')"
            ]
          },
          "metadata": {},
          "execution_count": 47
        }
      ],
      "source": [
        "y_test.dtype"
      ]
    },
    {
      "cell_type": "code",
      "execution_count": null,
      "metadata": {
        "id": "cB31rPV_qDCx",
        "colab": {
          "base_uri": "https://localhost:8080/"
        },
        "outputId": "95cee3f7-21d3-40ae-caf8-38a5b3f51d69"
      },
      "outputs": [
        {
          "output_type": "execute_result",
          "data": {
            "text/plain": [
              "array([[36, 99, 99, ..., 99, 99, 99],\n",
              "       [27, 17, 99, ..., 99, 99, 99],\n",
              "       [33, 99, 99, ..., 99, 99, 99],\n",
              "       ...,\n",
              "       [30, 14, 36, ...,  9, 99, 99],\n",
              "       [19,  3, 30, ..., 99, 99, 99],\n",
              "       [ 0, 99, 99, ..., 99, 99, 99]])"
            ]
          },
          "metadata": {},
          "execution_count": 48
        }
      ],
      "source": [
        "y_test"
      ]
    },
    {
      "cell_type": "code",
      "execution_count": null,
      "metadata": {
        "id": "RdwCN7dfqDCx",
        "colab": {
          "base_uri": "https://localhost:8080/"
        },
        "outputId": "2584b012-1a35-43a4-cbe2-2bb3bd5c2bb9"
      },
      "outputs": [
        {
          "output_type": "execute_result",
          "data": {
            "text/plain": [
              "array([[0, 0, 0, ..., 0, 0, 0],\n",
              "       [0, 0, 0, ..., 0, 0, 0],\n",
              "       [0, 0, 0, ..., 0, 0, 0],\n",
              "       ...,\n",
              "       [0, 0, 0, ..., 0, 0, 0],\n",
              "       [0, 0, 0, ..., 0, 0, 0],\n",
              "       [0, 0, 0, ..., 0, 0, 0]])"
            ]
          },
          "metadata": {},
          "execution_count": 49
        }
      ],
      "source": [
        "y_test_empty = np.zeros_like(y_test)\n",
        "y_test_empty"
      ]
    },
    {
      "cell_type": "code",
      "execution_count": null,
      "metadata": {
        "id": "W_OcNIPpqDCy",
        "colab": {
          "base_uri": "https://localhost:8080/"
        },
        "outputId": "ec85bfc0-bec5-46c7-8b28-764f5225627b"
      },
      "outputs": [
        {
          "output_type": "execute_result",
          "data": {
            "text/plain": [
              "array([0, 0, 0, 0, 0, 0, 0])"
            ]
          },
          "metadata": {},
          "execution_count": 50
        }
      ],
      "source": [
        "y_test_empty[0]"
      ]
    },
    {
      "cell_type": "code",
      "execution_count": null,
      "metadata": {
        "id": "hqyXQVgOqDCy",
        "colab": {
          "base_uri": "https://localhost:8080/"
        },
        "outputId": "81901a80-6326-41a0-d29d-5137bfc9c990"
      },
      "outputs": [
        {
          "output_type": "execute_result",
          "data": {
            "text/plain": [
              "(1538, 7)"
            ]
          },
          "metadata": {},
          "execution_count": 51
        }
      ],
      "source": [
        "y_test.shape"
      ]
    },
    {
      "cell_type": "code",
      "execution_count": null,
      "metadata": {
        "id": "6WDRa6IiqDCy",
        "colab": {
          "base_uri": "https://localhost:8080/",
          "height": 150
        },
        "outputId": "376ff27c-06ee-435f-aab7-2ae11f941a6a"
      },
      "outputs": [
        {
          "output_type": "display_data",
          "data": {
            "text/plain": [
              "<Figure size 500x500 with 9 Axes>"
            ],
            "image/png": "[encoded data removed]"
          },
          "metadata": {}
        }
      ],
      "source": [
        "# plot X_test 9 images\n",
        "# plot X_test 9 images\n",
        "plt.figure(figsize=(5,5))\n",
        "for i in range(9):\n",
        "    plt.subplot(5,5,i+1)\n",
        "    plt.imshow(X_test[-i], cmap='gray')\n",
        "    plt.axis('off')\n",
        "plt.show()"
      ]
    },
    {
      "cell_type": "markdown",
      "metadata": {
        "id": "GOkaBvhQqDCy"
      },
      "source": [
        "### CER Error"
      ]
    },
    {
      "cell_type": "code",
      "execution_count": null,
      "metadata": {
        "id": "uTng00SJqDCy"
      },
      "outputs": [],
      "source": [
        "y_pred_text = decode_batch_predictions(y_pred)"
      ]
    },
    {
      "cell_type": "code",
      "execution_count": null,
      "metadata": {
        "id": "pBHk_rT8qDCy"
      },
      "outputs": [],
      "source": [
        "# devectorize the labels\n",
        "y_val_texts = [devectorize_label(label,vocab_num, padding_token) for label in y_val]"
      ]
    },
    {
      "cell_type": "code",
      "execution_count": null,
      "metadata": {
        "id": "OmKHQCU7qDCy"
      },
      "outputs": [],
      "source": [
        "# Get the current timestamp\n",
        "timestamp = datetime.datetime.now().strftime(\"%Y%m%d%H%M%S\")\n",
        "\n",
        "# Save y_pred_text as a whole txt file with timestamp\n",
        "with open(f'y_pred_text_{timestamp}.txt', 'w', encoding='utf-8') as f:\n",
        "    for item in y_pred_text:\n",
        "        f.write(\"%s\\n\" % item)\n",
        "\n",
        "# Save y_test_texts as a whole txt file with timestamp\n",
        "with open(f'y_val_texts_{timestamp}.txt', 'w', encoding='utf-8') as f:\n",
        "    for item in y_val_texts:\n",
        "        f.write(\"%s\\n\" % item)"
      ]
    },
    {
      "cell_type": "code",
      "execution_count": null,
      "metadata": {
        "id": "dsGsXNnAqDCz",
        "colab": {
          "base_uri": "https://localhost:8080/"
        },
        "outputId": "8ae8483f-6669-409e-d047-9c857c8b25f1"
      },
      "outputs": [
        {
          "output_type": "stream",
          "name": "stdout",
          "text": [
            "104 / 4210 = 2.47%\n"
          ]
        }
      ],
      "source": [
        "def calculate_cer(y_true, y_pred):\n",
        "    total_distance = 0\n",
        "    total_true_char = 0\n",
        "    for true_seq, pred_seq in zip(y_true, y_pred):\n",
        "        true_seq = true_seq.rstrip('\\n')\n",
        "        pred_seq = pred_seq.rstrip('\\n')\n",
        "        total_distance += Levenshtein.distance(true_seq, pred_seq)\n",
        "        total_true_char += len(true_seq)\n",
        "    calc=[total_distance, total_true_char]\n",
        "    cer = (total_distance / total_true_char)\n",
        "    return cer, calc\n",
        "\n",
        "cer, calc = calculate_cer(y_val_texts, y_pred_text)\n",
        "print(calc[0],\"/\",calc[1],\"=\",\"{:.2f}%\".format(cer*100))"
      ]
    }
  ],
  "metadata": {
    "kernelspec": {
      "display_name": "Python 3",
      "name": "python3"
    },
    "language_info": {
      "codemirror_mode": {
        "name": "ipython",
        "version": 3
      },
      "file_extension": ".py",
      "mimetype": "text/x-python",
      "name": "python",
      "nbconvert_exporter": "python",
      "pygments_lexer": "ipython3",
      "version": "3.10.6"
    },
    "orig_nbformat": 4,
    "colab": {
      "provenance": [],
      "gpuType": "T4"
    },
    "accelerator": "GPU"
  },
  "nbformat": 4,
  "nbformat_minor": 0
}